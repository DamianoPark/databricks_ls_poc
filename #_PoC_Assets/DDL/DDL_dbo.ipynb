{
 "cells": [
  {
   "cell_type": "code",
   "execution_count": 0,
   "metadata": {
    "application/vnd.databricks.v1+cell": {
     "cellMetadata": {
      "byteLimit": 2048000,
      "rowLimit": 10000
     },
     "inputWidgets": {},
     "nuid": "c84dc389-29b7-41b7-bcbc-ad0374909536",
     "showTitle": false,
     "tableResultSettingsMap": {},
     "title": ""
    }
   },
   "outputs": [],
   "source": [
    "USE CATALOG dpdw;\n",
    "USE dbo;"
   ]
  },
  {
   "cell_type": "code",
   "execution_count": 0,
   "metadata": {
    "application/vnd.databricks.v1+cell": {
     "cellMetadata": {
      "byteLimit": 2048000,
      "rowLimit": 10000
     },
     "inputWidgets": {},
     "nuid": "08886b6f-7875-4f11-bb7b-7149e071d52a",
     "showTitle": false,
     "tableResultSettingsMap": {},
     "title": ""
    }
   },
   "outputs": [],
   "source": [
    "CREATE OR REPLACE TABLE T_DW_EOM_SCO_NEW_PRD_SA_STAT \n",
    "CLUSTER BY (YYYYMM, PROJECT_NO)\n",
    "AS SELECT * FROM fed_syn_catalog.dbo.T_DW_EOM_SCO_NEW_PRD_SA_STAT ;"
   ]
  },
  {
   "cell_type": "code",
   "execution_count": 0,
   "metadata": {
    "application/vnd.databricks.v1+cell": {
     "cellMetadata": {
      "byteLimit": 2048000,
      "rowLimit": 10000
     },
     "inputWidgets": {},
     "nuid": "1f020af1-6d1d-4ac2-96a8-ee65b0de8158",
     "showTitle": false,
     "tableResultSettingsMap": {},
     "title": ""
    }
   },
   "outputs": [],
   "source": [
    "CREATE OR REPLACE TABLE T_DIM_FND_COM_TERRITORY \n",
    "AS SELECT * FROM fed_syn_catalog.dbo.T_DIM_FND_COM_TERRITORY;"
   ]
  },
  {
   "cell_type": "code",
   "execution_count": 0,
   "metadata": {
    "application/vnd.databricks.v1+cell": {
     "cellMetadata": {
      "byteLimit": 2048000,
      "rowLimit": 10000
     },
     "inputWidgets": {},
     "nuid": "7d73d0ed-1db1-4143-aead-8cfbf4c0941f",
     "showTitle": false,
     "tableResultSettingsMap": {},
     "title": ""
    }
   },
   "outputs": [],
   "source": [
    "CREATE OR REPLACE TABLE T_DIM_FND_COM_TASK \n",
    "CLUSTER BY (TASK_ID, PROJECT_ID)\n",
    "AS SELECT * FROM fed_syn_catalog.dbo.T_DIM_FND_COM_TASK;"
   ]
  },
  {
   "cell_type": "code",
   "execution_count": 0,
   "metadata": {
    "application/vnd.databricks.v1+cell": {
     "cellMetadata": {
      "byteLimit": 2048000,
      "rowLimit": 10000
     },
     "inputWidgets": {},
     "nuid": "0290d260-eb24-4b06-bf3e-ceef4c08b4a3",
     "showTitle": false,
     "tableResultSettingsMap": {},
     "title": ""
    }
   },
   "outputs": [],
   "source": [
    "CREATE OR REPLACE TABLE T_DIM_FND_COM_RND_PJT \n",
    "AS SELECT * FROM fed_syn_catalog.dbo.T_DIM_FND_COM_RND_PJT;"
   ]
  },
  {
   "cell_type": "code",
   "execution_count": 0,
   "metadata": {
    "application/vnd.databricks.v1+cell": {
     "cellMetadata": {
      "byteLimit": 2048000,
      "rowLimit": 10000
     },
     "inputWidgets": {},
     "nuid": "8b5d16ac-b41d-412f-968c-4d40fefee50a",
     "showTitle": false,
     "tableResultSettingsMap": {},
     "title": ""
    }
   },
   "outputs": [],
   "source": [
    "CREATE OR REPLACE TABLE T_DIM_FND_COM_PROJECT \n",
    "AS SELECT * FROM fed_syn_catalog.dbo.T_DIM_FND_COM_PROJECT ;"
   ]
  },
  {
   "cell_type": "code",
   "execution_count": 0,
   "metadata": {
    "application/vnd.databricks.v1+cell": {
     "cellMetadata": {
      "byteLimit": 2048000,
      "rowLimit": 10000
     },
     "inputWidgets": {},
     "nuid": "e1bb6029-1f3c-4f0a-9c33-f70f83a29297",
     "showTitle": false,
     "tableResultSettingsMap": {},
     "title": ""
    }
   },
   "outputs": [],
   "source": [
    "CREATE OR REPLACE TABLE T_DIM_FND_COM_COUNTRY \n",
    "AS SELECT * FROM fed_syn_catalog.dbo.T_DIM_FND_COM_COUNTRY ;"
   ]
  },
  {
   "cell_type": "code",
   "execution_count": 0,
   "metadata": {
    "application/vnd.databricks.v1+cell": {
     "cellMetadata": {
      "byteLimit": 2048000,
      "rowLimit": 10000
     },
     "inputWidgets": {},
     "nuid": "10af8ef7-ddc3-4aa6-99ee-eb524e54dbe8",
     "showTitle": false,
     "tableResultSettingsMap": {},
     "title": ""
    }
   },
   "outputs": [],
   "source": [
    "CREATE OR REPLACE TABLE T_DIM_FND_COM_CUSTOMER_MASTER \n",
    "AS SELECT * FROM fed_syn_catalog.dbo.T_DIM_FND_COM_CUSTOMER_MASTER ;"
   ]
  },
  {
   "cell_type": "code",
   "execution_count": 0,
   "metadata": {
    "application/vnd.databricks.v1+cell": {
     "cellMetadata": {
      "byteLimit": 2048000,
      "rowLimit": 10000
     },
     "inputWidgets": {},
     "nuid": "9af3d117-df9c-479d-ad71-eeac93cded21",
     "showTitle": false,
     "tableResultSettingsMap": {},
     "title": ""
    }
   },
   "outputs": [],
   "source": [
    "CREATE OR REPLACE TABLE T_DIM_FND_COM_ITEM \n",
    "CLUSTER BY (ITEM_ID, ORG_ID)\n",
    "AS SELECT * FROM fed_syn_catalog.dbo.T_DIM_FND_COM_ITEM ;"
   ]
  },
  {
   "cell_type": "code",
   "execution_count": 0,
   "metadata": {
    "application/vnd.databricks.v1+cell": {
     "cellMetadata": {
      "byteLimit": 2048000,
      "rowLimit": 10000
     },
     "inputWidgets": {},
     "nuid": "e3cf3453-e23a-4dd0-b489-f42ef07086d3",
     "showTitle": false,
     "tableResultSettingsMap": {},
     "title": ""
    }
   },
   "outputs": [],
   "source": [
    "CREATE OR REPLACE TABLE T_DIM_FND_COM_ORGANIZATION \n",
    "CLUSTER BY (DEPARTMENT_CODE)\n",
    "AS SELECT * FROM fed_syn_catalog.dbo.T_DIM_FND_COM_ORGANIZATION ;"
   ]
  },
  {
   "cell_type": "code",
   "execution_count": 0,
   "metadata": {
    "application/vnd.databricks.v1+cell": {
     "cellMetadata": {
      "byteLimit": 2048000,
      "rowLimit": 10000
     },
     "inputWidgets": {},
     "nuid": "d30ac671-ed25-4dc7-aed0-aa4c1006d145",
     "showTitle": false,
     "tableResultSettingsMap": {},
     "title": ""
    }
   },
   "outputs": [],
   "source": [
    "CREATE OR REPLACE TABLE T_DIM_FND_COM_PROD_LN \n",
    "CLUSTER BY (PRODUCT_LINE_CODE)\n",
    "AS SELECT * FROM fed_syn_catalog.dbo.T_DIM_FND_COM_PROD_LN ;"
   ]
  }
 ],
 "metadata": {
  "application/vnd.databricks.v1+notebook": {
   "computePreferences": null,
   "dashboards": [],
   "environmentMetadata": {
    "base_environment": "",
    "environment_version": "2"
   },
   "inputWidgetPreferences": null,
   "language": "sql",
   "notebookMetadata": {
    "pythonIndentUnit": 4
   },
   "notebookName": "DDL_dbo",
   "widgets": {}
  },
  "language_info": {
   "name": "sql"
  }
 },
 "nbformat": 4,
 "nbformat_minor": 0
}
