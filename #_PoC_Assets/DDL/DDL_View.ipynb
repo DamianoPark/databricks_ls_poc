{
 "cells": [
  {
   "cell_type": "code",
   "execution_count": 0,
   "metadata": {
    "application/vnd.databricks.v1+cell": {
     "cellMetadata": {
      "byteLimit": 2048000,
      "rowLimit": 10000
     },
     "inputWidgets": {},
     "nuid": "4b7bcf3a-1a22-409d-a72a-ed8e3ea335e7",
     "showTitle": false,
     "tableResultSettingsMap": {},
     "title": ""
    }
   },
   "outputs": [],
   "source": [
    "USE CATALOG dpdw;\n",
    "USE erp;"
   ]
  },
  {
   "cell_type": "code",
   "execution_count": 0,
   "metadata": {
    "application/vnd.databricks.v1+cell": {
     "cellMetadata": {
      "byteLimit": 2048000,
      "rowLimit": 10000
     },
     "inputWidgets": {},
     "nuid": "cef98a9e-0a58-49fc-94e6-b4d5c0a0260f",
     "showTitle": false,
     "tableResultSettingsMap": {},
     "title": ""
    }
   },
   "outputs": [],
   "source": [
    "CREATE OR REPLACE TABLE erp.EBOM_CALENDAR_DATES_V \n",
    "AS SELECT * FROM fed_syn_catalog.erp.EBOM_CALENDAR_DATES_V ;"
   ]
  },
  {
   "cell_type": "code",
   "execution_count": 0,
   "metadata": {
    "application/vnd.databricks.v1+cell": {
     "cellMetadata": {},
     "inputWidgets": {},
     "nuid": "5847ffa4-5808-4731-bcda-3e5c6c66bbe4",
     "showTitle": false,
     "tableResultSettingsMap": {},
     "title": ""
    }
   },
   "outputs": [],
   "source": [
    "-- 이 테이블의 날짜 데이터가 변경되지 않는다면, view 보다는 table로 생성하는 것이 좋다고 판단됨.   \n",
    "\n",
    "-- CREATE VIEW dbo.V_DIM_FND_CALENDAR_MONTH_MST \n",
    "-- (DATE_YM, `YEAR`, `HALF`, `QUARTER`, DATE_KOR_YM, DATE_KOR_YYM, DATE_YM_SEP_DOT)\t\t\t\n",
    "-- AS SELECT DISTINCT\t\t\t\n",
    "--        DATE_FORMAT(CALENDAR_DATE,'yyyyMM') AS `DATE_YM`\t\t\t\n",
    "--       ,DATE_FORMAT(CALENDAR_DATE,'yyyy') AS `YEAR`\t\t\t\n",
    "--       ,CONCAT(DATE_FORMAT(CALENDAR_DATE,'yyyy'),'H',\n",
    "--          CASE WHEN DATE_FORMAT(CALENDAR_DATE,'MM') < '07' THEN '1' ELSE '2' END) AS `HALF`\t\t\t\n",
    "--       ,CONCAT(DATE_FORMAT(CALENDAR_DATE,'yyyy'),'Q', DATE_FORMAT(CALENDAR_DATE,'Q')) AS `QUARTER`\n",
    "--       ,CONCAT(DATE_FORMAT(CALENDAR_DATE,'yyyy'),'년 ', DATE_FORMAT(CALENDAR_DATE,'MM'),'월') AS `DATE_KOR_YM`\t\t\t\n",
    "--       ,CONCAT(DATE_FORMAT(CALENDAR_DATE,'yy'),'년 ', DATE_FORMAT(CALENDAR_DATE,'MM'),'월') AS `DATE_KOR_YYM`\t\t\t\n",
    "--       ,CONCAT(DATE_FORMAT(CALENDAR_DATE,'yyyy'),'.',DATE_FORMAT(CALENDAR_DATE,'MM')) AS DATE_YM_SEP_DOT\t\t\t\n",
    "-- FROM ERP.EBOM_CALENDAR_DATES_V\t\t\t\n",
    "-- WHERE CALENDAR_CODE = 'M01';\t\t"
   ]
  },
  {
   "cell_type": "code",
   "execution_count": 0,
   "metadata": {
    "application/vnd.databricks.v1+cell": {
     "cellMetadata": {
      "byteLimit": 2048000,
      "rowLimit": 10000
     },
     "inputWidgets": {},
     "nuid": "f302990f-e385-4927-915e-86a5824a5988",
     "showTitle": false,
     "tableResultSettingsMap": {},
     "title": ""
    }
   },
   "outputs": [],
   "source": [
    "CREATE OR REPLACE TABLE dbo.V_DIM_FND_CALENDAR_MONTH_MST\n",
    "AS SELECT * FROM fed_syn_catalog.dbo.V_DIM_FND_CALENDAR_MONTH_MST; "
   ]
  },
  {
   "cell_type": "code",
   "execution_count": 0,
   "metadata": {
    "application/vnd.databricks.v1+cell": {
     "cellMetadata": {
      "byteLimit": 2048000,
      "rowLimit": 10000
     },
     "inputWidgets": {},
     "nuid": "3aebdfc3-7c3a-4473-ac32-cf9cf02f0b23",
     "showTitle": false,
     "tableResultSettingsMap": {},
     "title": ""
    }
   },
   "outputs": [],
   "source": [
    "-- 위와 동일한 이유로, view 대신 table로 생성함 \n",
    "\n",
    "CREATE OR REPLACE TABLE dbo.V_DIM_FND_CALENDAR_DATES_MST\n",
    "AS SELECT * FROM fed_syn_catalog.dbo.V_DIM_FND_CALENDAR_DATES_MST; "
   ]
  }
 ],
 "metadata": {
  "application/vnd.databricks.v1+notebook": {
   "computePreferences": null,
   "dashboards": [],
   "environmentMetadata": {
    "base_environment": "",
    "environment_version": "2"
   },
   "inputWidgetPreferences": null,
   "language": "sql",
   "notebookMetadata": {
    "pythonIndentUnit": 4
   },
   "notebookName": "DDL_View",
   "widgets": {}
  },
  "language_info": {
   "name": "sql"
  }
 },
 "nbformat": 4,
 "nbformat_minor": 0
}
