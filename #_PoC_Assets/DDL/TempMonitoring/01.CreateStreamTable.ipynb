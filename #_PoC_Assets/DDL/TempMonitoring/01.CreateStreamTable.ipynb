{
 "cells": [
  {
   "cell_type": "code",
   "execution_count": 0,
   "metadata": {
    "application/vnd.databricks.v1+cell": {
     "cellMetadata": {
      "byteLimit": 2048000,
      "rowLimit": 10000
     },
     "inputWidgets": {},
     "nuid": "cd18d65c-85f7-4008-aa4e-74a300841382",
     "showTitle": true,
     "tableResultSettingsMap": {},
     "title": "1. Schema 설정"
    }
   },
   "outputs": [],
   "source": [
    "schema = \"\"\"\n",
    "    No STRING,\n",
    "    Date_Time STRING,\n",
    "    ms STRING,\n",
    "    CH1 STRING,\n",
    "    CH2 STRING,\n",
    "    CH3 STRING,\n",
    "    CH4 STRING,\n",
    "    CH5 STRING,\n",
    "    CH6 STRING,\n",
    "    CH7 STRING,\n",
    "    CH8 STRING,\n",
    "    CH9 STRING,\n",
    "    CH10 STRING,\n",
    "    Alarm1 STRING,\n",
    "    Alarm2 STRING,\n",
    "    AlarmOut STRING\n",
    "\"\"\""
   ]
  },
  {
   "cell_type": "code",
   "execution_count": 0,
   "metadata": {
    "application/vnd.databricks.v1+cell": {
     "cellMetadata": {
      "byteLimit": 2048000,
      "rowLimit": 10000
     },
     "inputWidgets": {},
     "nuid": "0edf7c36-459d-44c6-b9cf-d31a9c342c1d",
     "showTitle": true,
     "tableResultSettingsMap": {},
     "title": "Source Table 생성"
    }
   },
   "outputs": [],
   "source": [
    "source_df = (spark.readStream\n",
    "      .format(\"cloudFiles\")\n",
    "      .option(\"cloudFiles.format\", \"csv\")\n",
    "      .option(\"header\", \"false\")\n",
    "      .schema(schema)\n",
    "      .load(\"/Volumes/dpdw/fileserver/temp-monitoring/source2\"))\n",
    "\n",
    "(source_df.writeStream\n",
    "   .option(\"checkpointLocation\", \"/Volumes/dpdw/fileserver/temp-monitoring/source2/_checkpoint\")\n",
    "   .trigger(processingTime=\"1 minute\")\n",
    "   .toTable(\"dpdw.fileserver.temp_monitoring_source\"))"
   ]
  },
  {
   "cell_type": "code",
   "execution_count": 0,
   "metadata": {
    "application/vnd.databricks.v1+cell": {
     "cellMetadata": {
      "byteLimit": 2048000,
      "rowLimit": 10000
     },
     "inputWidgets": {},
     "nuid": "3bc7cd4d-0776-4897-b171-f9bcee528971",
     "showTitle": true,
     "tableResultSettingsMap": {},
     "title": "Input Table 생성"
    }
   },
   "outputs": [],
   "source": [
    "input_df = (spark.readStream\n",
    "      .format(\"cloudFiles\")\n",
    "      .option(\"cloudFiles.format\", \"csv\")\n",
    "      .option(\"header\", \"true\")\n",
    "      .schema(schema)\n",
    "      .load(\"/Volumes/dpdw/fileserver/temp-monitoring/input2\"))\n",
    "\n",
    "(input_df.writeStream\n",
    "   .option(\"checkpointLocation\", \"/Volumes/dpdw/fileserver/temp-monitoring/input2/_checkpoint\")\n",
    "   .trigger(processingTime=\"1 minute\")\n",
    "   .toTable(\"dpdw.fileserver.temp_monitoring_input\"))"
   ]
  },
  {
   "cell_type": "code",
   "execution_count": 0,
   "metadata": {
    "application/vnd.databricks.v1+cell": {
     "cellMetadata": {
      "byteLimit": 2048000,
      "rowLimit": 10000
     },
     "inputWidgets": {},
     "nuid": "c18db41e-9b10-4d20-886d-45d0fd47bb71",
     "showTitle": true,
     "tableResultSettingsMap": {},
     "title": "Output Table 생성"
    }
   },
   "outputs": [],
   "source": [
    "output_df = (spark.readStream\n",
    "      .format(\"cloudFiles\")\n",
    "      .option(\"cloudFiles.format\", \"csv\")\n",
    "      .option(\"header\", \"false\")\n",
    "      .schema(schema)\n",
    "      .load(\"/Volumes/dpdw/fileserver/temp-monitoring/output2\"))\n",
    "\n",
    "(output_df.writeStream\n",
    "   .option(\"checkpointLocation\", \"/Volumes/dpdw/fileserver/temp-monitoring/output2/_checkpoint\")\n",
    "   .trigger(processingTime=\"1 minute\")\n",
    "   .toTable(\"dpdw.fileserver.temp_monitoring_output\"))"
   ]
  },
  {
   "cell_type": "code",
   "execution_count": 0,
   "metadata": {
    "application/vnd.databricks.v1+cell": {
     "cellMetadata": {
      "byteLimit": 2048000,
      "rowLimit": 10000
     },
     "inputWidgets": {},
     "nuid": "a9d50f40-2279-4d11-a35c-7285962b5677",
     "showTitle": false,
     "tableResultSettingsMap": {},
     "title": ""
    }
   },
   "outputs": [],
   "source": []
  }
 ],
 "metadata": {
  "application/vnd.databricks.v1+notebook": {
   "computePreferences": null,
   "dashboards": [],
   "environmentMetadata": {
    "base_environment": "",
    "environment_version": "2"
   },
   "inputWidgetPreferences": null,
   "language": "python",
   "notebookMetadata": {
    "mostRecentlyExecutedCommandWithImplicitDF": {
     "commandId": 6470258073386804,
     "dataframes": [
      "_sqldf"
     ]
    },
    "pythonIndentUnit": 4
   },
   "notebookName": "01.CreateStreamTable",
   "widgets": {}
  },
  "language_info": {
   "name": "python"
  }
 },
 "nbformat": 4,
 "nbformat_minor": 0
}
