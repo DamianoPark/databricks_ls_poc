{
 "cells": [
  {
   "cell_type": "markdown",
   "metadata": {
    "application/vnd.databricks.v1+cell": {
     "cellMetadata": {},
     "inputWidgets": {},
     "nuid": "4fef9dd5-26bd-4244-aabb-1ed48b162b26",
     "showTitle": false,
     "tableResultSettingsMap": {},
     "title": ""
    }
   },
   "source": [
    "### from PROCEDURE dpdw.dbo.SP_T_DIM_FND_COM_COUNTRY_N_C"
   ]
  },
  {
   "cell_type": "code",
   "execution_count": 0,
   "metadata": {
    "application/vnd.databricks.v1+cell": {
     "cellMetadata": {},
     "inputWidgets": {},
     "nuid": "0bdd8c1d-31a9-4ca9-ad2e-d9618970c07b",
     "showTitle": false,
     "tableResultSettingsMap": {},
     "title": ""
    }
   },
   "outputs": [],
   "source": [
    "# %run \"../include/functions\""
   ]
  },
  {
   "cell_type": "code",
   "execution_count": 0,
   "metadata": {
    "application/vnd.databricks.v1+cell": {
     "cellMetadata": {
      "byteLimit": 2048000,
      "rowLimit": 10000
     },
     "inputWidgets": {},
     "nuid": "354ec5fc-305a-4241-af67-49359e9d71ef",
     "showTitle": false,
     "tableResultSettingsMap": {},
     "title": ""
    }
   },
   "outputs": [],
   "source": [
    "%sql\n",
    "TRUNCATE TABLE dpdw.dbo.T_DIM_FND_COM_COUNTRY2;"
   ]
  },
  {
   "cell_type": "code",
   "execution_count": 0,
   "metadata": {
    "application/vnd.databricks.v1+cell": {
     "cellMetadata": {},
     "inputWidgets": {},
     "nuid": "d5b4f666-02d7-434d-8047-2ff2a56d01b7",
     "showTitle": false,
     "tableResultSettingsMap": {},
     "title": ""
    }
   },
   "outputs": [],
   "source": [
    "%sql\n",
    "USE CATALOG fed_syn_catalog;"
   ]
  },
  {
   "cell_type": "code",
   "execution_count": 0,
   "metadata": {
    "application/vnd.databricks.v1+cell": {
     "cellMetadata": {
      "byteLimit": 2048000,
      "rowLimit": 10000
     },
     "inputWidgets": {},
     "nuid": "167117fb-c64f-4e00-a08a-4c9a3b3f4fbb",
     "showTitle": false,
     "tableResultSettingsMap": {},
     "title": ""
    }
   },
   "outputs": [],
   "source": [
    "query = f\"\"\"\n",
    "INSERT INTO dpdw.dbo.T_DIM_FND_COM_COUNTRY2 -- FIXME dpdw.dbo.T_DIM_FND_COM_COUNTRY  -- INSERT INTO [dbo].[T_DIM_FND_COM_COUNTRY]\n",
    "    (\n",
    "       COUNTRY_CODE           --국가코드  -- \t   [COUNTRY_CODE]                                          --국가코드\n",
    "      ,COUNTRY_NAME           --국가명  -- \t  ,[COUNTRY_NAME]                                          --국가명\n",
    "      ,COUNTRY_CODE_DESC      --국가코드설명  -- \t  ,[COUNTRY_CODE_DESC]                                     --국가코드설명\n",
    "      ,TERRITORY_ID           --권역ID  -- \t  ,[TERRITORY_ID]                                          --권역ID\n",
    "      ,TERRITORY_ENGLISH_NAME --권역영문명  -- \t  ,[TERRITORY_ENGLISH_NAME]                                --권역영문명\n",
    "      ,DOMESTIC_OVERSEAS_TYPE --국내해외구분코드  -- \t  ,[DOMESTIC_OVERSEAS_TYPE]                                --국내해외구분코드\n",
    "      ,USAGE_FLAG             --사용여부  -- \t  ,[USAGE_FLAG]                                            --사용여부\n",
    "      ,MERGED_NAME            --권역국가명  -- \t  ,[MERGED_NAME]                                           --권역국가명\n",
    "      ,ETL_DT                 --적재일시  -- \t  ,[ETL_DT]                                                --적재일시\n",
    "    )\n",
    "    SELECT IFNULL(FTS.TERRITORY_CODE,'z{')                        AS COUNTRY_CODE -- SELECT ISNULL(FTS.TERRITORY_CODE,'z{')                        AS COUNTRY_CODE\n",
    "            ,IFNULL(FTT.TERRITORY_SHORT_NAME, '데이타 없음')          AS COUNTRY_NAME  -- ,ISNULL(FTT.TERRITORY_SHORT_NAME, N'데이타 없음')          AS COUNTRY_NAME\n",
    "            ,FTT.DESCRIPTION                                        AS COUNTRY_CODE_DESC\n",
    "            ,IFNULL(RT.TERRITORY_ID,-99)                            AS TERRITORY_ID  -- ,ISNULL(RT.TERRITORY_ID,-99)                            AS TERRITORY_ID\n",
    "            ,RT.SEGMENT1                                            AS TERRITORY_ENGLISH_NAME\n",
    "            ,CASE WHEN TERRITORY_ID = 1211 THEN 'D'\n",
    "                  ELSE 'E'\n",
    "              END                                                    AS DOMESTIC_OVERSEAS_TYPE\n",
    "            ,RT.ENABLED_FLAG                                        AS USAGE_FLAG\n",
    "            ,RT.DESCRIPTION                                         AS MERGED_NAME --EC.MERGED_NAME\n",
    "            ,DATEADD(HOUR, 9 ,GETDATE())                            AS ETL_DT\n",
    "        FROM ERPSYS.ERP_FND_TERRITORIES_TL  FTT\n",
    "        JOIN ERPSYS.ERP_FND_TERRITORIES   FTS\n",
    "          ON FTT.TERRITORY_CODE = FTS.TERRITORY_CODE\n",
    "        LEFT OUTER\n",
    "        JOIN ERPSYS.ERP_RA_TERRITORIES RT\n",
    "          ON FTT.TERRITORY_CODE = RT.SEGMENT2\n",
    "    AND RT.STATUS = 'A' -- ERP 기준 유효한 것 체크, 코드가 중복됨.\n",
    "        UNION ALL\n",
    "      SELECT CASE WHEN T.SEQNUM = 1 THEN 'z{'\n",
    "                  ELSE 'z~'\n",
    "              END                                                    AS COUNTRY_CODE\n",
    "            ,CASE WHEN T.SEQNUM = 1 THEN '데이터 없음'  -- ,CASE WHEN T.SEQNUM = 1 THEN N'데이터 없음'\n",
    "                  ELSE '데이터 오류'  -- ELSE N'데이터 오류'\n",
    "              END                                                    AS COUNTRY_NAME\n",
    "            ,CASE WHEN T.SEQNUM = 1 THEN '데이터 없음' -- ,CASE WHEN T.SEQNUM = 1 THEN N'데이터 없음'\n",
    "                  ELSE '데이터 오류'  -- ELSE N'데이터 오류'\n",
    "              END                                                    AS COUNTRY_CODE_DESC\n",
    "            ,CASE WHEN T.SEQNUM = 1 THEN -99\n",
    "                  ELSE -999\n",
    "              END                                                    AS TERRITORY_ID\n",
    "            ,NULL                                                   AS TERRITORY_ENGLISH_NAME\n",
    "            ,NULL                                                   AS DOMESTIC_OVERSEAS_TYPE\n",
    "            ,'Y'                                                    AS USAGE_FLAG\n",
    "            ,NULL                                                   AS MERGED_NAME\n",
    "            ,DATEADD(HOUR, 9 ,GETDATE())                            AS ETL_DT\n",
    "        FROM (\n",
    "              SELECT ROW_NUMBER() OVER (ORDER BY (SELECT 1)) AS SEQNUM\t-- SELECT ROW_NUMBER() OVER (ORDER BY (SELECT NULL))     AS SEQNUM\n",
    "                FROM (\n",
    "                      SELECT 1 AS NN\n",
    "                        FROM INFORMATION_SCHEMA.COLUMNS A1\n",
    "                      ) A\n",
    "              ) T\n",
    "        WHERE SEQNUM <= 2\n",
    "      ;\n",
    "\"\"\""
   ]
  },
  {
   "cell_type": "code",
   "execution_count": 0,
   "metadata": {
    "application/vnd.databricks.v1+cell": {
     "cellMetadata": {},
     "inputWidgets": {},
     "nuid": "3df2cad0-a250-491a-9d96-6ec9400f899b",
     "showTitle": false,
     "tableResultSettingsMap": {},
     "title": ""
    }
   },
   "outputs": [],
   "source": [
    "num_rows_inserted = 0\n",
    "try:\n",
    "    sqlresult = spark.sql(query)\n",
    "    num_rows_inserted = sqlresult.collect()[0]['num_inserted_rows']\n",
    "except Exception as e:\n",
    "    err_msg = str(e)\n",
    "    error_code = type(e).__name__\n",
    "finally:\n",
    "    insert_log(\"SP_T_DIM_FND_COM_COUNTRY_N_C\", num_rows_inserted, err_msg, error_code)\n",
    "    # CALL dpdw.dbo.SP_ETL_DATA_INSERT_LOG(v_run_pgm, v_tgt_job_area, v_parm_from, v_parm_to, v_st_date, v_load_cnt, v_err_mesg, v_pgm_status);"
   ]
  }
 ],
 "metadata": {
  "application/vnd.databricks.v1+notebook": {
   "computePreferences": null,
   "dashboards": [],
   "environmentMetadata": {
    "base_environment": "",
    "environment_version": "2"
   },
   "inputWidgetPreferences": null,
   "language": "python",
   "notebookMetadata": {
    "mostRecentlyExecutedCommandWithImplicitDF": {
     "commandId": 8383666071011315,
     "dataframes": [
      "_sqldf"
     ]
    },
    "pythonIndentUnit": 4
   },
   "notebookName": "sample_SP2Notebook_SQL",
   "widgets": {}
  },
  "language_info": {
   "name": "python"
  }
 },
 "nbformat": 4,
 "nbformat_minor": 0
}
